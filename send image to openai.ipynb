{
 "cells": [
  {
   "cell_type": "code",
   "execution_count": 1,
   "id": "3a711114-bf70-4b3b-9563-d46d4f100a57",
   "metadata": {},
   "outputs": [],
   "source": [
    "import os\n",
    "from openai import OpenAI"
   ]
  },
  {
   "cell_type": "code",
   "execution_count": 2,
   "id": "d6f31805-3aef-456c-b8fc-c39b177a266e",
   "metadata": {
    "editable": true,
    "slideshow": {
     "slide_type": ""
    },
    "tags": []
   },
   "outputs": [],
   "source": [
    "#create OpenAI Object by passing in the API Key\n",
    "client = OpenAI(api_key=\"yyyyyyyyyy\")"
   ]
  },
  {
   "cell_type": "code",
   "execution_count": 5,
   "id": "24ccdbc5-2573-4fff-aaf5-aeca53a54f43",
   "metadata": {
    "editable": true,
    "slideshow": {
     "slide_type": ""
    },
    "tags": []
   },
   "outputs": [],
   "source": [
    "response = client.chat.completions.create(\n",
    "  model=\"gpt-4o-mini\",\n",
    "  messages = [\n",
    "    {\n",
    "        \"role\": \"user\",\n",
    "        \"content\": [\n",
    "            {\"type\": \"text\", \"text\": \"What items are present in this receipt?\"},\n",
    "            {\n",
    "                \"type\": \"image_url\",\n",
    "                \"image_url\": {\n",
    "                    \"url\": \"https://www.stockregister.in/_next/image?url=https%3A%2F%2Fstock-register-web.s3.ap-south-1.amazonaws.com%2Fnext%2Ftemplate_images%2FAssets_stock_register%2Finvoice_format%2Fwebp%2Finvoice_format_mid_level_images%2B(3).webp&w=1080&q=75\",\n",
    "                },\n",
    "            },\n",
    "        ],\n",
    "    }\n",
    " ],\n",
    "  max_tokens=300,\n",
    ")"
   ]
  },
  {
   "cell_type": "code",
   "execution_count": 6,
   "id": "3014a19a-a641-4de0-89cb-3f8fd8c9cfe6",
   "metadata": {},
   "outputs": [
    {
     "name": "stdout",
     "output_type": "stream",
     "text": [
      "The receipt lists the following items:\n",
      "\n",
      "1. **Apple normal**\n",
      "   - Quantity: 5 KG\n",
      "   - Price per Unit: Rs. 100.00\n",
      "   - Amount: Rs. 525.00 (including tax)\n",
      "\n",
      "2. **Orange**\n",
      "   - Quantity: 10 KG\n",
      "   - Price per Unit: Rs. 40.00\n",
      "   - Amount: Rs. 525.00 (including tax)\n",
      "\n",
      "3. **Orange**\n",
      "   - Quantity: 5 KG\n",
      "   - Price per Unit: Rs. 40.00\n",
      "   - Amount: Rs. 210.00 (including tax)\n",
      "\n",
      "**Total Amount (after discount and tax): Rs. 1055.00**  \n",
      "**Received Amount: Rs. 500.00**  \n",
      "**Due Balance: Rs. 555.00**\n"
     ]
    }
   ],
   "source": [
    "print(response.choices[0].message.content)"
   ]
  },
  {
   "cell_type": "code",
   "execution_count": null,
   "id": "8ec6cf63-8653-4ab7-9154-47a51d3acd6d",
   "metadata": {},
   "outputs": [],
   "source": [
    "import base64\n",
    "\n",
    "# Path to the image file\n",
    "image_path = \"receipt1.jpeg\"\n",
    "\n",
    "# Function to convert the image file to a base64 string\n",
    "def convert_image_to_base64(image_path):\n",
    "    # Open the image file in binary read mode\n",
    "    with open(image_path, \"rb\") as image_file:\n",
    "        # Read the file's contents\n",
    "        image_data = image_file.read()\n",
    "        # Encode the contents to base64\n",
    "        base64_encoded_data = base64.b64encode(image_data)\n",
    "        # Convert the base64 bytes to a string\n",
    "        base64_string = base64_encoded_data.decode(\"utf-8\")\n",
    "    return base64_string\n",
    "\n",
    "# Convert the image to a base64 string and store it in a variable\n",
    "base64_image_string = convert_image_to_base64(image_path)\n",
    "base64_image_string"
   ]
  },
  {
   "cell_type": "code",
   "execution_count": 4,
   "id": "98156a07-7544-4da3-b766-3cb2109df89e",
   "metadata": {},
   "outputs": [
    {
     "name": "stdout",
     "output_type": "stream",
     "text": [
      "The items present in the receipt are:\n",
      "\n",
      "1. Apple Simply Red Md (0.515 kg @ $3.50/kg) - $1.80\n",
      "2. Mini Square Cheese & Chive 8pk - $3.84\n",
      "3. Brioche Sliders 8pk - $3.00\n",
      "4. Paseo 3 Ply T/tissue 24pk Value - $15.00\n",
      "5. Free From Lactose Lite Milk 1 L - $3.50\n",
      "6. Countdown Eggs Barn Size 7 12pk - $9.50\n",
      "7. Countdown Ice Cream Vanilla 2L - $6.30\n",
      "8. Equal Fresh Lean Meat 500g - $6.55\n",
      "9. WW Frozen Chicken Nuggets Battered 1kg - $11.00\n",
      "10. Asparagus Bunch NZ - $1.99\n",
      "11. Westgold Butter Unsalted 400g - $6.20\n",
      "12. Dove Bar Regular 4x90g - $3.49\n",
      "13. Mars Bar 47g - $1.00\n",
      "14. Hrtland Potato Chpssthrn Salt 150g (Qty 2 @ $2.30 each) - $4.60\n",
      "\n",
      "Subtotal: $77.77\n",
      "Total: $77.77\n"
     ]
    }
   ],
   "source": [
    "# Pass the image to GPT-4o-mini\n",
    "response = client.chat.completions.create(\n",
    "  model=\"gpt-4o-mini\",\n",
    "  messages=[\n",
    "    {\"role\": \"system\",\"content\": \"Answer the quesiton based on the provided image.\"},\n",
    "    {\"role\": \"user\",\"content\": [\n",
    "        {\"type\": \"text\",\"text\": \"What items are present in this receipt?\"},\n",
    "        {\"type\": \"image_url\", \"image_url\": { \"url\": f\"data:image/png;base64,{base64_image_string}\"}}\n",
    "      ]\n",
    "    }\n",
    "  ],\n",
    "  temperature=0,\n",
    ")\n",
    "\n",
    "# Print the response\n",
    "print(response.choices[0].message.content)"
   ]
  },
  {
   "cell_type": "code",
   "execution_count": null,
   "id": "9a2bb71f-1193-4980-b07f-16484d31b0d6",
   "metadata": {},
   "outputs": [],
   "source": []
  }
 ],
 "metadata": {
  "kernelspec": {
   "display_name": "Python 3 (ipykernel)",
   "language": "python",
   "name": "python3"
  },
  "language_info": {
   "codemirror_mode": {
    "name": "ipython",
    "version": 3
   },
   "file_extension": ".py",
   "mimetype": "text/x-python",
   "name": "python",
   "nbconvert_exporter": "python",
   "pygments_lexer": "ipython3",
   "version": "3.11.5"
  }
 },
 "nbformat": 4,
 "nbformat_minor": 5
}
