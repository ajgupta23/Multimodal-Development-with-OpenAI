{
 "cells": [
  {
   "cell_type": "code",
   "execution_count": 1,
   "id": "94765ffe-3a2a-4709-a88b-fd7f1f2fff99",
   "metadata": {
    "editable": true,
    "slideshow": {
     "slide_type": ""
    },
    "tags": []
   },
   "outputs": [],
   "source": [
    "from openai import OpenAI\n",
    "import os"
   ]
  },
  {
   "cell_type": "code",
   "execution_count": null,
   "id": "bb3031bb-0ae0-47b0-9a5e-9dc191210973",
   "metadata": {},
   "outputs": [],
   "source": [
    "# from dotenv import load_dotenv\n",
    "# load_dotenv()\n",
    "# client = OpenAI(api_key=os.environ.get(\"OPENAI_API_KEY\"))"
   ]
  },
  {
   "cell_type": "code",
   "execution_count": 2,
   "id": "4870f256-7012-47df-a314-d5359f10c69e",
   "metadata": {},
   "outputs": [],
   "source": [
    "#create OpenAI Object by passing in the API Key\n",
    "client = OpenAI(api_key=\"yyyyyyyyyy\")"
   ]
  },
  {
   "cell_type": "code",
   "execution_count": 4,
   "id": "50fc6b9f-a691-402e-be05-4982f348e240",
   "metadata": {},
   "outputs": [
    {
     "name": "stdout",
     "output_type": "stream",
     "text": [
      "The full form of WHO is the World Health Organization.\n"
     ]
    }
   ],
   "source": [
    "completion = client.chat.completions.create(   #Chat Completions API endpoint\n",
    "  model=\"gpt-4o-mini\",  #Specify the model to use\n",
    "  messages=[            #list of messages that sets up the context for the completion\n",
    "    {\"role\": \"system\", \"content\": \"You are a helpful assistant.\"},   #set the behavior of the assistant\n",
    "    {\"role\": \"user\", \"content\": \"What is the full form of WHO?\"}     #send user query\n",
    "  ]\n",
    ")\n",
    "\n",
    "print(completion.choices[0].message.content)"
   ]
  },
  {
   "cell_type": "code",
   "execution_count": 5,
   "id": "a52a320c-2f94-41e7-90d2-8c5adb034ba3",
   "metadata": {},
   "outputs": [
    {
     "name": "stdout",
     "output_type": "stream",
     "text": [
      "{\n",
      "  \"full_form\": \"World Health Organization\"\n",
      "}\n"
     ]
    }
   ],
   "source": [
    "completion = client.chat.completions.create(\n",
    "  model=\"gpt-4o-mini\",  #Specify the model to use\n",
    "  messages=[            #list of messages that sets up the context for the completion\n",
    "    {\"role\": \"system\", \"content\": \"You are a helpful assistant designed to output JSON.\"},\n",
    "    {\"role\": \"user\", \"content\": \"What is the full form of WHO?\"}\n",
    "  ]\n",
    ")\n",
    "\n",
    "print(completion.choices[0].message.content)"
   ]
  },
  {
   "cell_type": "code",
   "execution_count": 7,
   "id": "e34e41dc-4eaa-4a9e-b603-4092073e32ee",
   "metadata": {
    "editable": true,
    "slideshow": {
     "slide_type": ""
    },
    "tags": []
   },
   "outputs": [
    {
     "name": "stdout",
     "output_type": "stream",
     "text": [
      "```json\n",
      "{\n",
      "  \"full_form\": \"World Health Organization\"\n",
      "}\n",
      "```\n"
     ]
    }
   ],
   "source": [
    "completion = client.chat.completions.create(\n",
    "  model=\"gpt-4o-mini\",  #Specify the model to use\n",
    "  messages=[            #list of messages that sets up the context for the completion\n",
    "    {\"role\": \"system\", \"content\": \"You are a helpful assistant designed to output JSON.\"},\n",
    "    {\"role\": \"user\", \"content\": \"What is the full form of WHO?\"}\n",
    "  ]\n",
    ")\n",
    "\n",
    "print(completion.choices[0].message.content)"
   ]
  }
 ],
 "metadata": {
  "kernelspec": {
   "display_name": "Python 3 (ipykernel)",
   "language": "python",
   "name": "python3"
  },
  "language_info": {
   "codemirror_mode": {
    "name": "ipython",
    "version": 3
   },
   "file_extension": ".py",
   "mimetype": "text/x-python",
   "name": "python",
   "nbconvert_exporter": "python",
   "pygments_lexer": "ipython3",
   "version": "3.11.5"
  }
 },
 "nbformat": 4,
 "nbformat_minor": 5
}
